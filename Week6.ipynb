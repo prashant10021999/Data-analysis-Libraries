{
 "cells": [
  {
   "cell_type": "code",
   "execution_count": 1,
   "metadata": {},
   "outputs": [],
   "source": [
    "import scipy\n",
    "import numpy as np"
   ]
  },
  {
   "cell_type": "code",
   "execution_count": 9,
   "metadata": {},
   "outputs": [],
   "source": [
    "from scipy.stats import binom"
   ]
  },
  {
   "cell_type": "code",
   "execution_count": 15,
   "metadata": {},
   "outputs": [
    {
     "name": "stderr",
     "output_type": "stream",
     "text": [
      "'[]' is not recognized as an internal or external command,\n",
      "operable program or batch file.\n"
     ]
    }
   ],
   "source": [
    "![](http://www.stat.yale.edu/Courses/1997-98/101/binpdf.gif)"
   ]
  },
  {
   "cell_type": "code",
   "execution_count": 1,
   "metadata": {},
   "outputs": [],
   "source": [
    "import pandas as pd\n",
    "import numpy as np\n",
    "import math\n",
    "import scipy\n",
    "from scipy import stats\n",
    "from scipy import stats\n",
    "import statsmodels.api as sm\n",
    "from statsmodels.formula.api import ols\n",
    "from matplotlib import pyplot as plt"
   ]
  },
  {
   "cell_type": "code",
   "execution_count": 2,
   "metadata": {},
   "outputs": [
    {
     "data": {
      "text/html": [
       "<div>\n",
       "<style scoped>\n",
       "    .dataframe tbody tr th:only-of-type {\n",
       "        vertical-align: middle;\n",
       "    }\n",
       "\n",
       "    .dataframe tbody tr th {\n",
       "        vertical-align: top;\n",
       "    }\n",
       "\n",
       "    .dataframe thead th {\n",
       "        text-align: right;\n",
       "    }\n",
       "</style>\n",
       "<table border=\"1\" class=\"dataframe\">\n",
       "  <thead>\n",
       "    <tr style=\"text-align: right;\">\n",
       "      <th></th>\n",
       "      <th>Black Board</th>\n",
       "      <th>Case Presentation</th>\n",
       "      <th>PPT</th>\n",
       "    </tr>\n",
       "  </thead>\n",
       "  <tbody>\n",
       "    <tr>\n",
       "      <td>0</td>\n",
       "      <td>4</td>\n",
       "      <td>2</td>\n",
       "      <td>2</td>\n",
       "    </tr>\n",
       "    <tr>\n",
       "      <td>1</td>\n",
       "      <td>3</td>\n",
       "      <td>4</td>\n",
       "      <td>1</td>\n",
       "    </tr>\n",
       "    <tr>\n",
       "      <td>2</td>\n",
       "      <td>2</td>\n",
       "      <td>6</td>\n",
       "      <td>3</td>\n",
       "    </tr>\n",
       "  </tbody>\n",
       "</table>\n",
       "</div>"
      ],
      "text/plain": [
       "   Black Board  Case Presentation  PPT\n",
       "0            4                  2    2\n",
       "1            3                  4    1\n",
       "2            2                  6    3"
      ]
     },
     "execution_count": 2,
     "metadata": {},
     "output_type": "execute_result"
    }
   ],
   "source": [
    "data = pd.DataFrame({'Black Board': {0: 4, 1: 3, 2: 2}, \n",
    "                   'Case Presentation': {0: 2, 1: 4, 2: 6}, \n",
    "                   'PPT': {0: 2, 1: 1, 2: 3}}) \n",
    "data"
   ]
  },
  {
   "cell_type": "code",
   "execution_count": 3,
   "metadata": {},
   "outputs": [
    {
     "name": "stdout",
     "output_type": "stream",
     "text": [
      "   Black Board           variable  value\n",
      "0            4  Case Presentation      2\n",
      "1            3  Case Presentation      4\n",
      "2            2  Case Presentation      6\n",
      "3            4                PPT      2\n",
      "4            3                PPT      1\n",
      "5            2                PPT      3\n"
     ]
    }
   ],
   "source": [
    "#normal anova\n",
    "datanew=pd.melt(data, id_vars=['Black Board'], value_vars=['Case Presentation','PPT'])\n",
    "print(datanew)"
   ]
  },
  {
   "cell_type": "code",
   "execution_count": 4,
   "metadata": {},
   "outputs": [],
   "source": [
    "datanew.columns=['index','treatments','value']"
   ]
  },
  {
   "cell_type": "code",
   "execution_count": 5,
   "metadata": {},
   "outputs": [
    {
     "data": {
      "text/html": [
       "<div>\n",
       "<style scoped>\n",
       "    .dataframe tbody tr th:only-of-type {\n",
       "        vertical-align: middle;\n",
       "    }\n",
       "\n",
       "    .dataframe tbody tr th {\n",
       "        vertical-align: top;\n",
       "    }\n",
       "\n",
       "    .dataframe thead th {\n",
       "        text-align: right;\n",
       "    }\n",
       "</style>\n",
       "<table border=\"1\" class=\"dataframe\">\n",
       "  <thead>\n",
       "    <tr style=\"text-align: right;\">\n",
       "      <th></th>\n",
       "      <th>index</th>\n",
       "      <th>treatments</th>\n",
       "      <th>value</th>\n",
       "    </tr>\n",
       "  </thead>\n",
       "  <tbody>\n",
       "    <tr>\n",
       "      <td>0</td>\n",
       "      <td>4</td>\n",
       "      <td>Case Presentation</td>\n",
       "      <td>2</td>\n",
       "    </tr>\n",
       "    <tr>\n",
       "      <td>1</td>\n",
       "      <td>3</td>\n",
       "      <td>Case Presentation</td>\n",
       "      <td>4</td>\n",
       "    </tr>\n",
       "    <tr>\n",
       "      <td>2</td>\n",
       "      <td>2</td>\n",
       "      <td>Case Presentation</td>\n",
       "      <td>6</td>\n",
       "    </tr>\n",
       "    <tr>\n",
       "      <td>3</td>\n",
       "      <td>4</td>\n",
       "      <td>PPT</td>\n",
       "      <td>2</td>\n",
       "    </tr>\n",
       "    <tr>\n",
       "      <td>4</td>\n",
       "      <td>3</td>\n",
       "      <td>PPT</td>\n",
       "      <td>1</td>\n",
       "    </tr>\n",
       "    <tr>\n",
       "      <td>5</td>\n",
       "      <td>2</td>\n",
       "      <td>PPT</td>\n",
       "      <td>3</td>\n",
       "    </tr>\n",
       "  </tbody>\n",
       "</table>\n",
       "</div>"
      ],
      "text/plain": [
       "   index         treatments  value\n",
       "0      4  Case Presentation      2\n",
       "1      3  Case Presentation      4\n",
       "2      2  Case Presentation      6\n",
       "3      4                PPT      2\n",
       "4      3                PPT      1\n",
       "5      2                PPT      3"
      ]
     },
     "execution_count": 5,
     "metadata": {},
     "output_type": "execute_result"
    }
   ],
   "source": [
    "datanew"
   ]
  },
  {
   "cell_type": "code",
   "execution_count": 6,
   "metadata": {},
   "outputs": [],
   "source": [
    "model=ols('value~C(treatments)',data=datanew).fit()"
   ]
  },
  {
   "cell_type": "code",
   "execution_count": 7,
   "metadata": {},
   "outputs": [
    {
     "name": "stderr",
     "output_type": "stream",
     "text": [
      "C:\\Users\\Garima Singh\\Anaconda3\\lib\\site-packages\\statsmodels\\stats\\stattools.py:71: ValueWarning: omni_normtest is not valid with less than 8 observations; 6 samples were given.\n",
      "  \"samples were given.\" % int(n), ValueWarning)\n"
     ]
    },
    {
     "data": {
      "text/html": [
       "<table class=\"simpletable\">\n",
       "<caption>OLS Regression Results</caption>\n",
       "<tr>\n",
       "  <th>Dep. Variable:</th>          <td>value</td>      <th>  R-squared:         </th> <td>   0.375</td>\n",
       "</tr>\n",
       "<tr>\n",
       "  <th>Model:</th>                   <td>OLS</td>       <th>  Adj. R-squared:    </th> <td>   0.219</td>\n",
       "</tr>\n",
       "<tr>\n",
       "  <th>Method:</th>             <td>Least Squares</td>  <th>  F-statistic:       </th> <td>   2.400</td>\n",
       "</tr>\n",
       "<tr>\n",
       "  <th>Date:</th>             <td>Sun, 29 Mar 2020</td> <th>  Prob (F-statistic):</th>  <td> 0.196</td> \n",
       "</tr>\n",
       "<tr>\n",
       "  <th>Time:</th>                 <td>03:16:13</td>     <th>  Log-Likelihood:    </th> <td> -10.046</td>\n",
       "</tr>\n",
       "<tr>\n",
       "  <th>No. Observations:</th>      <td>     6</td>      <th>  AIC:               </th> <td>   24.09</td>\n",
       "</tr>\n",
       "<tr>\n",
       "  <th>Df Residuals:</th>          <td>     4</td>      <th>  BIC:               </th> <td>   23.68</td>\n",
       "</tr>\n",
       "<tr>\n",
       "  <th>Df Model:</th>              <td>     1</td>      <th>                     </th>     <td> </td>   \n",
       "</tr>\n",
       "<tr>\n",
       "  <th>Covariance Type:</th>      <td>nonrobust</td>    <th>                     </th>     <td> </td>   \n",
       "</tr>\n",
       "</table>\n",
       "<table class=\"simpletable\">\n",
       "<tr>\n",
       "            <td></td>              <th>coef</th>     <th>std err</th>      <th>t</th>      <th>P>|t|</th>  <th>[0.025</th>    <th>0.975]</th>  \n",
       "</tr>\n",
       "<tr>\n",
       "  <th>Intercept</th>            <td>    4.0000</td> <td>    0.913</td> <td>    4.382</td> <td> 0.012</td> <td>    1.465</td> <td>    6.535</td>\n",
       "</tr>\n",
       "<tr>\n",
       "  <th>C(treatments)[T.PPT]</th> <td>   -2.0000</td> <td>    1.291</td> <td>   -1.549</td> <td> 0.196</td> <td>   -5.584</td> <td>    1.584</td>\n",
       "</tr>\n",
       "</table>\n",
       "<table class=\"simpletable\">\n",
       "<tr>\n",
       "  <th>Omnibus:</th>       <td>   nan</td> <th>  Durbin-Watson:     </th> <td>   1.700</td>\n",
       "</tr>\n",
       "<tr>\n",
       "  <th>Prob(Omnibus):</th> <td>   nan</td> <th>  Jarque-Bera (JB):  </th> <td>   0.230</td>\n",
       "</tr>\n",
       "<tr>\n",
       "  <th>Skew:</th>          <td>-0.000</td> <th>  Prob(JB):          </th> <td>   0.891</td>\n",
       "</tr>\n",
       "<tr>\n",
       "  <th>Kurtosis:</th>      <td> 2.040</td> <th>  Cond. No.          </th> <td>    2.62</td>\n",
       "</tr>\n",
       "</table><br/><br/>Warnings:<br/>[1] Standard Errors assume that the covariance matrix of the errors is correctly specified."
      ],
      "text/plain": [
       "<class 'statsmodels.iolib.summary.Summary'>\n",
       "\"\"\"\n",
       "                            OLS Regression Results                            \n",
       "==============================================================================\n",
       "Dep. Variable:                  value   R-squared:                       0.375\n",
       "Model:                            OLS   Adj. R-squared:                  0.219\n",
       "Method:                 Least Squares   F-statistic:                     2.400\n",
       "Date:                Sun, 29 Mar 2020   Prob (F-statistic):              0.196\n",
       "Time:                        03:16:13   Log-Likelihood:                -10.046\n",
       "No. Observations:                   6   AIC:                             24.09\n",
       "Df Residuals:                       4   BIC:                             23.68\n",
       "Df Model:                           1                                         \n",
       "Covariance Type:            nonrobust                                         \n",
       "========================================================================================\n",
       "                           coef    std err          t      P>|t|      [0.025      0.975]\n",
       "----------------------------------------------------------------------------------------\n",
       "Intercept                4.0000      0.913      4.382      0.012       1.465       6.535\n",
       "C(treatments)[T.PPT]    -2.0000      1.291     -1.549      0.196      -5.584       1.584\n",
       "==============================================================================\n",
       "Omnibus:                          nan   Durbin-Watson:                   1.700\n",
       "Prob(Omnibus):                    nan   Jarque-Bera (JB):                0.230\n",
       "Skew:                          -0.000   Prob(JB):                        0.891\n",
       "Kurtosis:                       2.040   Cond. No.                         2.62\n",
       "==============================================================================\n",
       "\n",
       "Warnings:\n",
       "[1] Standard Errors assume that the covariance matrix of the errors is correctly specified.\n",
       "\"\"\""
      ]
     },
     "execution_count": 7,
     "metadata": {},
     "output_type": "execute_result"
    }
   ],
   "source": [
    "model.summary()"
   ]
  },
  {
   "cell_type": "code",
   "execution_count": 8,
   "metadata": {},
   "outputs": [],
   "source": [
    "anova_table=sm.stats.anova_lm(model,type=1)"
   ]
  },
  {
   "cell_type": "code",
   "execution_count": 9,
   "metadata": {},
   "outputs": [
    {
     "data": {
      "text/html": [
       "<div>\n",
       "<style scoped>\n",
       "    .dataframe tbody tr th:only-of-type {\n",
       "        vertical-align: middle;\n",
       "    }\n",
       "\n",
       "    .dataframe tbody tr th {\n",
       "        vertical-align: top;\n",
       "    }\n",
       "\n",
       "    .dataframe thead th {\n",
       "        text-align: right;\n",
       "    }\n",
       "</style>\n",
       "<table border=\"1\" class=\"dataframe\">\n",
       "  <thead>\n",
       "    <tr style=\"text-align: right;\">\n",
       "      <th></th>\n",
       "      <th>df</th>\n",
       "      <th>sum_sq</th>\n",
       "      <th>mean_sq</th>\n",
       "      <th>F</th>\n",
       "      <th>PR(&gt;F)</th>\n",
       "    </tr>\n",
       "  </thead>\n",
       "  <tbody>\n",
       "    <tr>\n",
       "      <td>C(treatments)</td>\n",
       "      <td>1.0</td>\n",
       "      <td>6.0</td>\n",
       "      <td>6.0</td>\n",
       "      <td>2.4</td>\n",
       "      <td>0.196261</td>\n",
       "    </tr>\n",
       "    <tr>\n",
       "      <td>Residual</td>\n",
       "      <td>4.0</td>\n",
       "      <td>10.0</td>\n",
       "      <td>2.5</td>\n",
       "      <td>NaN</td>\n",
       "      <td>NaN</td>\n",
       "    </tr>\n",
       "  </tbody>\n",
       "</table>\n",
       "</div>"
      ],
      "text/plain": [
       "                df  sum_sq  mean_sq    F    PR(>F)\n",
       "C(treatments)  1.0     6.0      6.0  2.4  0.196261\n",
       "Residual       4.0    10.0      2.5  NaN       NaN"
      ]
     },
     "execution_count": 9,
     "metadata": {},
     "output_type": "execute_result"
    }
   ],
   "source": [
    "anova_table"
   ]
  },
  {
   "cell_type": "code",
   "execution_count": 10,
   "metadata": {},
   "outputs": [
    {
     "name": "stdout",
     "output_type": "stream",
     "text": [
      "   Black Board           variable  value\n",
      "0            4  Case Presentation      2\n",
      "1            3  Case Presentation      4\n",
      "2            2  Case Presentation      6\n",
      "3            4                PPT      2\n",
      "4            3                PPT      1\n",
      "5            2                PPT      3\n"
     ]
    }
   ],
   "source": [
    "#rbd\n",
    "datanew=pd.melt(data, id_vars=['Black Board'], value_vars=['Case Presentation','PPT'])\n",
    "print(datanew)"
   ]
  },
  {
   "cell_type": "code",
   "execution_count": 11,
   "metadata": {},
   "outputs": [],
   "source": [
    "datanew.columns=['blocks','treatments','value']"
   ]
  },
  {
   "cell_type": "code",
   "execution_count": 12,
   "metadata": {},
   "outputs": [],
   "source": [
    "model=ols('value~C(blocks)+C(treatments)',data=datanew).fit()"
   ]
  },
  {
   "cell_type": "code",
   "execution_count": 13,
   "metadata": {},
   "outputs": [],
   "source": [
    "anova_table=sm.stats.anova_lm(model,type=1)"
   ]
  },
  {
   "cell_type": "code",
   "execution_count": 14,
   "metadata": {},
   "outputs": [
    {
     "data": {
      "text/html": [
       "<div>\n",
       "<style scoped>\n",
       "    .dataframe tbody tr th:only-of-type {\n",
       "        vertical-align: middle;\n",
       "    }\n",
       "\n",
       "    .dataframe tbody tr th {\n",
       "        vertical-align: top;\n",
       "    }\n",
       "\n",
       "    .dataframe thead th {\n",
       "        text-align: right;\n",
       "    }\n",
       "</style>\n",
       "<table border=\"1\" class=\"dataframe\">\n",
       "  <thead>\n",
       "    <tr style=\"text-align: right;\">\n",
       "      <th></th>\n",
       "      <th>df</th>\n",
       "      <th>sum_sq</th>\n",
       "      <th>mean_sq</th>\n",
       "      <th>F</th>\n",
       "      <th>PR(&gt;F)</th>\n",
       "    </tr>\n",
       "  </thead>\n",
       "  <tbody>\n",
       "    <tr>\n",
       "      <td>C(blocks)</td>\n",
       "      <td>2.0</td>\n",
       "      <td>7.0</td>\n",
       "      <td>3.5</td>\n",
       "      <td>2.333333</td>\n",
       "      <td>0.300000</td>\n",
       "    </tr>\n",
       "    <tr>\n",
       "      <td>C(treatments)</td>\n",
       "      <td>1.0</td>\n",
       "      <td>6.0</td>\n",
       "      <td>6.0</td>\n",
       "      <td>4.000000</td>\n",
       "      <td>0.183503</td>\n",
       "    </tr>\n",
       "    <tr>\n",
       "      <td>Residual</td>\n",
       "      <td>2.0</td>\n",
       "      <td>3.0</td>\n",
       "      <td>1.5</td>\n",
       "      <td>NaN</td>\n",
       "      <td>NaN</td>\n",
       "    </tr>\n",
       "  </tbody>\n",
       "</table>\n",
       "</div>"
      ],
      "text/plain": [
       "                df  sum_sq  mean_sq         F    PR(>F)\n",
       "C(blocks)      2.0     7.0      3.5  2.333333  0.300000\n",
       "C(treatments)  1.0     6.0      6.0  4.000000  0.183503\n",
       "Residual       2.0     3.0      1.5       NaN       NaN"
      ]
     },
     "execution_count": 14,
     "metadata": {},
     "output_type": "execute_result"
    }
   ],
   "source": [
    "anova_table"
   ]
  },
  {
   "cell_type": "code",
   "execution_count": 15,
   "metadata": {},
   "outputs": [],
   "source": [
    "data=pd.read_excel('C:/Users/Garima Singh/Desktop/mooc data analysis/Twoway.xlsx')"
   ]
  },
  {
   "cell_type": "code",
   "execution_count": 16,
   "metadata": {},
   "outputs": [
    {
     "data": {
      "text/html": [
       "<div>\n",
       "<style scoped>\n",
       "    .dataframe tbody tr th:only-of-type {\n",
       "        vertical-align: middle;\n",
       "    }\n",
       "\n",
       "    .dataframe tbody tr th {\n",
       "        vertical-align: top;\n",
       "    }\n",
       "\n",
       "    .dataframe thead th {\n",
       "        text-align: right;\n",
       "    }\n",
       "</style>\n",
       "<table border=\"1\" class=\"dataframe\">\n",
       "  <thead>\n",
       "    <tr style=\"text-align: right;\">\n",
       "      <th></th>\n",
       "      <th>Value</th>\n",
       "      <th>prep_pro</th>\n",
       "      <th>college</th>\n",
       "    </tr>\n",
       "  </thead>\n",
       "  <tbody>\n",
       "    <tr>\n",
       "      <td>0</td>\n",
       "      <td>500</td>\n",
       "      <td>three_hr</td>\n",
       "      <td>Business</td>\n",
       "    </tr>\n",
       "    <tr>\n",
       "      <td>1</td>\n",
       "      <td>580</td>\n",
       "      <td>three_hr</td>\n",
       "      <td>Business</td>\n",
       "    </tr>\n",
       "    <tr>\n",
       "      <td>2</td>\n",
       "      <td>540</td>\n",
       "      <td>three_hr</td>\n",
       "      <td>Engineering</td>\n",
       "    </tr>\n",
       "    <tr>\n",
       "      <td>3</td>\n",
       "      <td>460</td>\n",
       "      <td>three_hr</td>\n",
       "      <td>Engineering</td>\n",
       "    </tr>\n",
       "    <tr>\n",
       "      <td>4</td>\n",
       "      <td>480</td>\n",
       "      <td>three_hr</td>\n",
       "      <td>Artsandscience</td>\n",
       "    </tr>\n",
       "    <tr>\n",
       "      <td>5</td>\n",
       "      <td>400</td>\n",
       "      <td>three_hr</td>\n",
       "      <td>Artsandscience</td>\n",
       "    </tr>\n",
       "    <tr>\n",
       "      <td>6</td>\n",
       "      <td>460</td>\n",
       "      <td>One-day</td>\n",
       "      <td>Business</td>\n",
       "    </tr>\n",
       "    <tr>\n",
       "      <td>7</td>\n",
       "      <td>540</td>\n",
       "      <td>One-day</td>\n",
       "      <td>Business</td>\n",
       "    </tr>\n",
       "    <tr>\n",
       "      <td>8</td>\n",
       "      <td>560</td>\n",
       "      <td>One-day</td>\n",
       "      <td>Engineering</td>\n",
       "    </tr>\n",
       "    <tr>\n",
       "      <td>9</td>\n",
       "      <td>620</td>\n",
       "      <td>One-day</td>\n",
       "      <td>Engineering</td>\n",
       "    </tr>\n",
       "    <tr>\n",
       "      <td>10</td>\n",
       "      <td>420</td>\n",
       "      <td>One-day</td>\n",
       "      <td>Artsandscience</td>\n",
       "    </tr>\n",
       "    <tr>\n",
       "      <td>11</td>\n",
       "      <td>480</td>\n",
       "      <td>One-day</td>\n",
       "      <td>Artsandscience</td>\n",
       "    </tr>\n",
       "    <tr>\n",
       "      <td>12</td>\n",
       "      <td>560</td>\n",
       "      <td>10-Week</td>\n",
       "      <td>Business</td>\n",
       "    </tr>\n",
       "    <tr>\n",
       "      <td>13</td>\n",
       "      <td>600</td>\n",
       "      <td>10-Week</td>\n",
       "      <td>Business</td>\n",
       "    </tr>\n",
       "    <tr>\n",
       "      <td>14</td>\n",
       "      <td>600</td>\n",
       "      <td>10-Week</td>\n",
       "      <td>Engineering</td>\n",
       "    </tr>\n",
       "    <tr>\n",
       "      <td>15</td>\n",
       "      <td>580</td>\n",
       "      <td>10-Week</td>\n",
       "      <td>Engineering</td>\n",
       "    </tr>\n",
       "    <tr>\n",
       "      <td>16</td>\n",
       "      <td>480</td>\n",
       "      <td>10-Week</td>\n",
       "      <td>Artsandscience</td>\n",
       "    </tr>\n",
       "    <tr>\n",
       "      <td>17</td>\n",
       "      <td>410</td>\n",
       "      <td>10-Week</td>\n",
       "      <td>Artsandscience</td>\n",
       "    </tr>\n",
       "  </tbody>\n",
       "</table>\n",
       "</div>"
      ],
      "text/plain": [
       "    Value  prep_pro         college\n",
       "0     500  three_hr        Business\n",
       "1     580  three_hr        Business\n",
       "2     540  three_hr     Engineering\n",
       "3     460  three_hr     Engineering\n",
       "4     480  three_hr  Artsandscience\n",
       "5     400  three_hr  Artsandscience\n",
       "6     460   One-day        Business\n",
       "7     540   One-day        Business\n",
       "8     560   One-day     Engineering\n",
       "9     620   One-day     Engineering\n",
       "10    420   One-day  Artsandscience\n",
       "11    480   One-day  Artsandscience\n",
       "12    560   10-Week        Business\n",
       "13    600   10-Week        Business\n",
       "14    600   10-Week     Engineering\n",
       "15    580   10-Week     Engineering\n",
       "16    480   10-Week  Artsandscience\n",
       "17    410   10-Week  Artsandscience"
      ]
     },
     "execution_count": 16,
     "metadata": {},
     "output_type": "execute_result"
    }
   ],
   "source": [
    "data"
   ]
  },
  {
   "cell_type": "code",
   "execution_count": 19,
   "metadata": {},
   "outputs": [],
   "source": [
    "model=ols('Value~C(college)+C(prep_pro)+C(college):C(prep_pro)',data).fit()"
   ]
  },
  {
   "cell_type": "code",
   "execution_count": 20,
   "metadata": {},
   "outputs": [
    {
     "name": "stderr",
     "output_type": "stream",
     "text": [
      "C:\\Users\\Garima Singh\\Anaconda3\\lib\\site-packages\\scipy\\stats\\stats.py:1450: UserWarning: kurtosistest only valid for n>=20 ... continuing anyway, n=18\n",
      "  \"anyway, n=%i\" % int(n))\n"
     ]
    },
    {
     "data": {
      "text/html": [
       "<table class=\"simpletable\">\n",
       "<caption>OLS Regression Results</caption>\n",
       "<tr>\n",
       "  <th>Dep. Variable:</th>          <td>Value</td>      <th>  R-squared:         </th> <td>   0.759</td>\n",
       "</tr>\n",
       "<tr>\n",
       "  <th>Model:</th>                   <td>OLS</td>       <th>  Adj. R-squared:    </th> <td>   0.545</td>\n",
       "</tr>\n",
       "<tr>\n",
       "  <th>Method:</th>             <td>Least Squares</td>  <th>  F-statistic:       </th> <td>   3.548</td>\n",
       "</tr>\n",
       "<tr>\n",
       "  <th>Date:</th>             <td>Sun, 29 Mar 2020</td> <th>  Prob (F-statistic):</th>  <td>0.0384</td> \n",
       "</tr>\n",
       "<tr>\n",
       "  <th>Time:</th>                 <td>03:24:41</td>     <th>  Log-Likelihood:    </th> <td> -88.591</td>\n",
       "</tr>\n",
       "<tr>\n",
       "  <th>No. Observations:</th>      <td>    18</td>      <th>  AIC:               </th> <td>   195.2</td>\n",
       "</tr>\n",
       "<tr>\n",
       "  <th>Df Residuals:</th>          <td>     9</td>      <th>  BIC:               </th> <td>   203.2</td>\n",
       "</tr>\n",
       "<tr>\n",
       "  <th>Df Model:</th>              <td>     8</td>      <th>                     </th>     <td> </td>   \n",
       "</tr>\n",
       "<tr>\n",
       "  <th>Covariance Type:</th>      <td>nonrobust</td>    <th>                     </th>     <td> </td>   \n",
       "</tr>\n",
       "</table>\n",
       "<table class=\"simpletable\">\n",
       "<tr>\n",
       "                          <td></td>                             <th>coef</th>     <th>std err</th>      <th>t</th>      <th>P>|t|</th>  <th>[0.025</th>    <th>0.975]</th>  \n",
       "</tr>\n",
       "<tr>\n",
       "  <th>Intercept</th>                                         <td>  445.0000</td> <td>   33.208</td> <td>   13.400</td> <td> 0.000</td> <td>  369.878</td> <td>  520.122</td>\n",
       "</tr>\n",
       "<tr>\n",
       "  <th>C(college)[T.Business]</th>                            <td>  135.0000</td> <td>   46.963</td> <td>    2.875</td> <td> 0.018</td> <td>   28.762</td> <td>  241.238</td>\n",
       "</tr>\n",
       "<tr>\n",
       "  <th>C(college)[T.Engineering]</th>                         <td>  145.0000</td> <td>   46.963</td> <td>    3.088</td> <td> 0.013</td> <td>   38.762</td> <td>  251.238</td>\n",
       "</tr>\n",
       "<tr>\n",
       "  <th>C(prep_pro)[T.One-day]</th>                            <td>    5.0000</td> <td>   46.963</td> <td>    0.106</td> <td> 0.918</td> <td> -101.238</td> <td>  111.238</td>\n",
       "</tr>\n",
       "<tr>\n",
       "  <th>C(prep_pro)[T.three_hr]</th>                           <td>   -5.0000</td> <td>   46.963</td> <td>   -0.106</td> <td> 0.918</td> <td> -111.238</td> <td>  101.238</td>\n",
       "</tr>\n",
       "<tr>\n",
       "  <th>C(college)[T.Business]:C(prep_pro)[T.One-day]</th>     <td>  -85.0000</td> <td>   66.416</td> <td>   -1.280</td> <td> 0.233</td> <td> -235.244</td> <td>   65.244</td>\n",
       "</tr>\n",
       "<tr>\n",
       "  <th>C(college)[T.Engineering]:C(prep_pro)[T.One-day]</th>  <td>   -5.0000</td> <td>   66.416</td> <td>   -0.075</td> <td> 0.942</td> <td> -155.244</td> <td>  145.244</td>\n",
       "</tr>\n",
       "<tr>\n",
       "  <th>C(college)[T.Business]:C(prep_pro)[T.three_hr]</th>    <td>  -35.0000</td> <td>   66.416</td> <td>   -0.527</td> <td> 0.611</td> <td> -185.244</td> <td>  115.244</td>\n",
       "</tr>\n",
       "<tr>\n",
       "  <th>C(college)[T.Engineering]:C(prep_pro)[T.three_hr]</th> <td>  -85.0000</td> <td>   66.416</td> <td>   -1.280</td> <td> 0.233</td> <td> -235.244</td> <td>   65.244</td>\n",
       "</tr>\n",
       "</table>\n",
       "<table class=\"simpletable\">\n",
       "<tr>\n",
       "  <th>Omnibus:</th>       <td>16.430</td> <th>  Durbin-Watson:     </th> <td>   2.984</td>\n",
       "</tr>\n",
       "<tr>\n",
       "  <th>Prob(Omnibus):</th> <td> 0.000</td> <th>  Jarque-Bera (JB):  </th> <td>   2.333</td>\n",
       "</tr>\n",
       "<tr>\n",
       "  <th>Skew:</th>          <td> 0.000</td> <th>  Prob(JB):          </th> <td>   0.311</td>\n",
       "</tr>\n",
       "<tr>\n",
       "  <th>Kurtosis:</th>      <td> 1.236</td> <th>  Cond. No.          </th> <td>    13.9</td>\n",
       "</tr>\n",
       "</table><br/><br/>Warnings:<br/>[1] Standard Errors assume that the covariance matrix of the errors is correctly specified."
      ],
      "text/plain": [
       "<class 'statsmodels.iolib.summary.Summary'>\n",
       "\"\"\"\n",
       "                            OLS Regression Results                            \n",
       "==============================================================================\n",
       "Dep. Variable:                  Value   R-squared:                       0.759\n",
       "Model:                            OLS   Adj. R-squared:                  0.545\n",
       "Method:                 Least Squares   F-statistic:                     3.548\n",
       "Date:                Sun, 29 Mar 2020   Prob (F-statistic):             0.0384\n",
       "Time:                        03:24:41   Log-Likelihood:                -88.591\n",
       "No. Observations:                  18   AIC:                             195.2\n",
       "Df Residuals:                       9   BIC:                             203.2\n",
       "Df Model:                           8                                         \n",
       "Covariance Type:            nonrobust                                         \n",
       "=====================================================================================================================\n",
       "                                                        coef    std err          t      P>|t|      [0.025      0.975]\n",
       "---------------------------------------------------------------------------------------------------------------------\n",
       "Intercept                                           445.0000     33.208     13.400      0.000     369.878     520.122\n",
       "C(college)[T.Business]                              135.0000     46.963      2.875      0.018      28.762     241.238\n",
       "C(college)[T.Engineering]                           145.0000     46.963      3.088      0.013      38.762     251.238\n",
       "C(prep_pro)[T.One-day]                                5.0000     46.963      0.106      0.918    -101.238     111.238\n",
       "C(prep_pro)[T.three_hr]                              -5.0000     46.963     -0.106      0.918    -111.238     101.238\n",
       "C(college)[T.Business]:C(prep_pro)[T.One-day]       -85.0000     66.416     -1.280      0.233    -235.244      65.244\n",
       "C(college)[T.Engineering]:C(prep_pro)[T.One-day]     -5.0000     66.416     -0.075      0.942    -155.244     145.244\n",
       "C(college)[T.Business]:C(prep_pro)[T.three_hr]      -35.0000     66.416     -0.527      0.611    -185.244     115.244\n",
       "C(college)[T.Engineering]:C(prep_pro)[T.three_hr]   -85.0000     66.416     -1.280      0.233    -235.244      65.244\n",
       "==============================================================================\n",
       "Omnibus:                       16.430   Durbin-Watson:                   2.984\n",
       "Prob(Omnibus):                  0.000   Jarque-Bera (JB):                2.333\n",
       "Skew:                           0.000   Prob(JB):                        0.311\n",
       "Kurtosis:                       1.236   Cond. No.                         13.9\n",
       "==============================================================================\n",
       "\n",
       "Warnings:\n",
       "[1] Standard Errors assume that the covariance matrix of the errors is correctly specified.\n",
       "\"\"\""
      ]
     },
     "execution_count": 20,
     "metadata": {},
     "output_type": "execute_result"
    }
   ],
   "source": [
    "model.summary()"
   ]
  },
  {
   "cell_type": "code",
   "execution_count": 23,
   "metadata": {},
   "outputs": [],
   "source": [
    "anova_table=sm.stats.anova_lm(model,type=2)"
   ]
  },
  {
   "cell_type": "code",
   "execution_count": 24,
   "metadata": {},
   "outputs": [
    {
     "data": {
      "text/html": [
       "<div>\n",
       "<style scoped>\n",
       "    .dataframe tbody tr th:only-of-type {\n",
       "        vertical-align: middle;\n",
       "    }\n",
       "\n",
       "    .dataframe tbody tr th {\n",
       "        vertical-align: top;\n",
       "    }\n",
       "\n",
       "    .dataframe thead th {\n",
       "        text-align: right;\n",
       "    }\n",
       "</style>\n",
       "<table border=\"1\" class=\"dataframe\">\n",
       "  <thead>\n",
       "    <tr style=\"text-align: right;\">\n",
       "      <th></th>\n",
       "      <th>df</th>\n",
       "      <th>sum_sq</th>\n",
       "      <th>mean_sq</th>\n",
       "      <th>F</th>\n",
       "      <th>PR(&gt;F)</th>\n",
       "    </tr>\n",
       "  </thead>\n",
       "  <tbody>\n",
       "    <tr>\n",
       "      <td>C(college)</td>\n",
       "      <td>2.0</td>\n",
       "      <td>45300.0</td>\n",
       "      <td>22650.000000</td>\n",
       "      <td>10.269521</td>\n",
       "      <td>0.004757</td>\n",
       "    </tr>\n",
       "    <tr>\n",
       "      <td>C(prep_pro)</td>\n",
       "      <td>2.0</td>\n",
       "      <td>6100.0</td>\n",
       "      <td>3050.000000</td>\n",
       "      <td>1.382872</td>\n",
       "      <td>0.299436</td>\n",
       "    </tr>\n",
       "    <tr>\n",
       "      <td>C(college):C(prep_pro)</td>\n",
       "      <td>4.0</td>\n",
       "      <td>11200.0</td>\n",
       "      <td>2800.000000</td>\n",
       "      <td>1.269521</td>\n",
       "      <td>0.350328</td>\n",
       "    </tr>\n",
       "    <tr>\n",
       "      <td>Residual</td>\n",
       "      <td>9.0</td>\n",
       "      <td>19850.0</td>\n",
       "      <td>2205.555556</td>\n",
       "      <td>NaN</td>\n",
       "      <td>NaN</td>\n",
       "    </tr>\n",
       "  </tbody>\n",
       "</table>\n",
       "</div>"
      ],
      "text/plain": [
       "                         df   sum_sq       mean_sq          F    PR(>F)\n",
       "C(college)              2.0  45300.0  22650.000000  10.269521  0.004757\n",
       "C(prep_pro)             2.0   6100.0   3050.000000   1.382872  0.299436\n",
       "C(college):C(prep_pro)  4.0  11200.0   2800.000000   1.269521  0.350328\n",
       "Residual                9.0  19850.0   2205.555556        NaN       NaN"
      ]
     },
     "execution_count": 24,
     "metadata": {},
     "output_type": "execute_result"
    }
   ],
   "source": [
    "anova_table"
   ]
  },
  {
   "cell_type": "code",
   "execution_count": 25,
   "metadata": {},
   "outputs": [],
   "source": [
    "#linear regression 1\n",
    "data=pd.read_excel('C:/Users/Garima Singh/Desktop/mooc data analysis/Reg2.xlsx')"
   ]
  },
  {
   "cell_type": "code",
   "execution_count": 26,
   "metadata": {},
   "outputs": [
    {
     "data": {
      "text/html": [
       "<div>\n",
       "<style scoped>\n",
       "    .dataframe tbody tr th:only-of-type {\n",
       "        vertical-align: middle;\n",
       "    }\n",
       "\n",
       "    .dataframe tbody tr th {\n",
       "        vertical-align: top;\n",
       "    }\n",
       "\n",
       "    .dataframe thead th {\n",
       "        text-align: right;\n",
       "    }\n",
       "</style>\n",
       "<table border=\"1\" class=\"dataframe\">\n",
       "  <thead>\n",
       "    <tr style=\"text-align: right;\">\n",
       "      <th></th>\n",
       "      <th>Hydrocarbon level</th>\n",
       "      <th>O2</th>\n",
       "    </tr>\n",
       "  </thead>\n",
       "  <tbody>\n",
       "    <tr>\n",
       "      <td>0</td>\n",
       "      <td>0.99</td>\n",
       "      <td>90.01</td>\n",
       "    </tr>\n",
       "    <tr>\n",
       "      <td>1</td>\n",
       "      <td>1.02</td>\n",
       "      <td>89.05</td>\n",
       "    </tr>\n",
       "    <tr>\n",
       "      <td>2</td>\n",
       "      <td>1.15</td>\n",
       "      <td>91.43</td>\n",
       "    </tr>\n",
       "    <tr>\n",
       "      <td>3</td>\n",
       "      <td>1.29</td>\n",
       "      <td>93.74</td>\n",
       "    </tr>\n",
       "    <tr>\n",
       "      <td>4</td>\n",
       "      <td>1.46</td>\n",
       "      <td>96.73</td>\n",
       "    </tr>\n",
       "    <tr>\n",
       "      <td>5</td>\n",
       "      <td>1.36</td>\n",
       "      <td>94.45</td>\n",
       "    </tr>\n",
       "    <tr>\n",
       "      <td>6</td>\n",
       "      <td>0.87</td>\n",
       "      <td>87.59</td>\n",
       "    </tr>\n",
       "    <tr>\n",
       "      <td>7</td>\n",
       "      <td>1.23</td>\n",
       "      <td>91.77</td>\n",
       "    </tr>\n",
       "    <tr>\n",
       "      <td>8</td>\n",
       "      <td>1.55</td>\n",
       "      <td>99.42</td>\n",
       "    </tr>\n",
       "    <tr>\n",
       "      <td>9</td>\n",
       "      <td>1.40</td>\n",
       "      <td>93.65</td>\n",
       "    </tr>\n",
       "  </tbody>\n",
       "</table>\n",
       "</div>"
      ],
      "text/plain": [
       "   Hydrocarbon level     O2\n",
       "0               0.99  90.01\n",
       "1               1.02  89.05\n",
       "2               1.15  91.43\n",
       "3               1.29  93.74\n",
       "4               1.46  96.73\n",
       "5               1.36  94.45\n",
       "6               0.87  87.59\n",
       "7               1.23  91.77\n",
       "8               1.55  99.42\n",
       "9               1.40  93.65"
      ]
     },
     "execution_count": 26,
     "metadata": {},
     "output_type": "execute_result"
    }
   ],
   "source": [
    "data"
   ]
  },
  {
   "cell_type": "code",
   "execution_count": 31,
   "metadata": {},
   "outputs": [
    {
     "data": {
      "text/plain": [
       "<matplotlib.collections.PathCollection at 0x1f8ffc3e408>"
      ]
     },
     "execution_count": 31,
     "metadata": {},
     "output_type": "execute_result"
    },
    {
     "data": {
      "image/png": "[encoded data removed]",
      "text/plain": [
       "<Figure size 432x288 with 1 Axes>"
      ]
     },
     "metadata": {
      "needs_background": "light"
     },
     "output_type": "display_data"
    }
   ],
   "source": [
    "#plot at mean of x and y\n",
    "import seaborn as sns\n",
    "x=data['Hydrocarbon level']\n",
    "y=data['O2']\n",
    "plt.figure()\n",
    "sns.regplot(x,y,fit_reg=True)\n",
    "plt.scatter(np.mean(x),np.mean(y),color=\"green\")"
   ]
  },
  {
   "cell_type": "code",
   "execution_count": 32,
   "metadata": {},
   "outputs": [],
   "source": [
    "#simple linear reg\n",
    "data=pd.read_excel('C:/Users/Garima Singh/Desktop/mooc data analysis/regr.xlsx')"
   ]
  },
  {
   "cell_type": "code",
   "execution_count": 33,
   "metadata": {},
   "outputs": [
    {
     "data": {
      "text/html": [
       "<div>\n",
       "<style scoped>\n",
       "    .dataframe tbody tr th:only-of-type {\n",
       "        vertical-align: middle;\n",
       "    }\n",
       "\n",
       "    .dataframe tbody tr th {\n",
       "        vertical-align: top;\n",
       "    }\n",
       "\n",
       "    .dataframe thead th {\n",
       "        text-align: right;\n",
       "    }\n",
       "</style>\n",
       "<table border=\"1\" class=\"dataframe\">\n",
       "  <thead>\n",
       "    <tr style=\"text-align: right;\">\n",
       "      <th></th>\n",
       "      <th>TV Ads</th>\n",
       "      <th>car Sold</th>\n",
       "    </tr>\n",
       "  </thead>\n",
       "  <tbody>\n",
       "    <tr>\n",
       "      <td>0</td>\n",
       "      <td>1</td>\n",
       "      <td>14</td>\n",
       "    </tr>\n",
       "    <tr>\n",
       "      <td>1</td>\n",
       "      <td>3</td>\n",
       "      <td>24</td>\n",
       "    </tr>\n",
       "    <tr>\n",
       "      <td>2</td>\n",
       "      <td>2</td>\n",
       "      <td>18</td>\n",
       "    </tr>\n",
       "    <tr>\n",
       "      <td>3</td>\n",
       "      <td>1</td>\n",
       "      <td>17</td>\n",
       "    </tr>\n",
       "    <tr>\n",
       "      <td>4</td>\n",
       "      <td>3</td>\n",
       "      <td>27</td>\n",
       "    </tr>\n",
       "  </tbody>\n",
       "</table>\n",
       "</div>"
      ],
      "text/plain": [
       "   TV Ads  car Sold\n",
       "0       1        14\n",
       "1       3        24\n",
       "2       2        18\n",
       "3       1        17\n",
       "4       3        27"
      ]
     },
     "execution_count": 33,
     "metadata": {},
     "output_type": "execute_result"
    }
   ],
   "source": [
    "data"
   ]
  },
  {
   "cell_type": "code",
   "execution_count": 35,
   "metadata": {},
   "outputs": [
    {
     "data": {
      "image/png": "[encoded data removed]",
      "text/plain": [
       "<Figure size 432x288 with 1 Axes>"
      ]
     },
     "metadata": {
      "needs_background": "light"
     },
     "output_type": "display_data"
    }
   ],
   "source": [
    "data.plot('TV Ads','car Sold',style='o')\n",
    "plt.ylabel('car sold')\n",
    "plt.title('sales')\n",
    "plt.show()"
   ]
  },
  {
   "cell_type": "code",
   "execution_count": 36,
   "metadata": {},
   "outputs": [
    {
     "name": "stdout",
     "output_type": "stream",
     "text": [
      "                            OLS Regression Results                            \n",
      "==============================================================================\n",
      "Dep. Variable:               car Sold   R-squared:                       0.877\n",
      "Model:                            OLS   Adj. R-squared:                  0.836\n",
      "Method:                 Least Squares   F-statistic:                     21.43\n",
      "Date:                Sun, 29 Mar 2020   Prob (F-statistic):             0.0190\n",
      "Time:                        03:39:24   Log-Likelihood:                -9.6687\n",
      "No. Observations:                   5   AIC:                             23.34\n",
      "Df Residuals:                       3   BIC:                             22.56\n",
      "Df Model:                           1                                         \n",
      "Covariance Type:            nonrobust                                         \n",
      "==============================================================================\n",
      "                 coef    std err          t      P>|t|      [0.025      0.975]\n",
      "------------------------------------------------------------------------------\n",
      "const         10.0000      2.366      4.226      0.024       2.469      17.531\n",
      "TV Ads         5.0000      1.080      4.629      0.019       1.563       8.437\n",
      "==============================================================================\n",
      "Omnibus:                          nan   Durbin-Watson:                   1.214\n",
      "Prob(Omnibus):                    nan   Jarque-Bera (JB):                0.674\n",
      "Skew:                           0.256   Prob(JB):                        0.714\n",
      "Kurtosis:                       1.276   Cond. No.                         6.33\n",
      "==============================================================================\n",
      "\n",
      "Warnings:\n",
      "[1] Standard Errors assume that the covariance matrix of the errors is correctly specified.\n"
     ]
    },
    {
     "name": "stderr",
     "output_type": "stream",
     "text": [
      "C:\\Users\\Garima Singh\\Anaconda3\\lib\\site-packages\\numpy\\core\\fromnumeric.py:2389: FutureWarning: Method .ptp is deprecated and will be removed in a future version. Use numpy.ptp instead.\n",
      "  return ptp(axis=axis, out=out, **kwargs)\n",
      "C:\\Users\\Garima Singh\\Anaconda3\\lib\\site-packages\\statsmodels\\stats\\stattools.py:71: ValueWarning: omni_normtest is not valid with less than 8 observations; 5 samples were given.\n",
      "  \"samples were given.\" % int(n), ValueWarning)\n"
     ]
    }
   ],
   "source": [
    "t=data['TV Ads']\n",
    "c=data['car Sold']\n",
    "import statsmodels.api as s\n",
    "t=s.add_constant(t)\n",
    "model1=sm.OLS(c,t)\n",
    "result1=model1.fit()\n",
    "print(result1.summary())"
   ]
  },
  {
   "cell_type": "code",
   "execution_count": 40,
   "metadata": {},
   "outputs": [
    {
     "data": {
      "text/html": [
       "<div>\n",
       "<style scoped>\n",
       "    .dataframe tbody tr th:only-of-type {\n",
       "        vertical-align: middle;\n",
       "    }\n",
       "\n",
       "    .dataframe tbody tr th {\n",
       "        vertical-align: top;\n",
       "    }\n",
       "\n",
       "    .dataframe thead th {\n",
       "        text-align: right;\n",
       "    }\n",
       "</style>\n",
       "<table border=\"1\" class=\"dataframe\">\n",
       "  <thead>\n",
       "    <tr style=\"text-align: right;\">\n",
       "      <th></th>\n",
       "      <th>Tensile strength</th>\n",
       "      <th>Hardness</th>\n",
       "    </tr>\n",
       "  </thead>\n",
       "  <tbody>\n",
       "    <tr>\n",
       "      <td>0</td>\n",
       "      <td>53.0</td>\n",
       "      <td>29.31</td>\n",
       "    </tr>\n",
       "    <tr>\n",
       "      <td>1</td>\n",
       "      <td>70.2</td>\n",
       "      <td>34.86</td>\n",
       "    </tr>\n",
       "    <tr>\n",
       "      <td>2</td>\n",
       "      <td>84.3</td>\n",
       "      <td>36.82</td>\n",
       "    </tr>\n",
       "    <tr>\n",
       "      <td>3</td>\n",
       "      <td>55.3</td>\n",
       "      <td>30.12</td>\n",
       "    </tr>\n",
       "    <tr>\n",
       "      <td>4</td>\n",
       "      <td>78.5</td>\n",
       "      <td>34.02</td>\n",
       "    </tr>\n",
       "    <tr>\n",
       "      <td>5</td>\n",
       "      <td>63.5</td>\n",
       "      <td>30.82</td>\n",
       "    </tr>\n",
       "    <tr>\n",
       "      <td>6</td>\n",
       "      <td>71.4</td>\n",
       "      <td>35.40</td>\n",
       "    </tr>\n",
       "    <tr>\n",
       "      <td>7</td>\n",
       "      <td>53.4</td>\n",
       "      <td>31.26</td>\n",
       "    </tr>\n",
       "    <tr>\n",
       "      <td>8</td>\n",
       "      <td>82.5</td>\n",
       "      <td>32.18</td>\n",
       "    </tr>\n",
       "    <tr>\n",
       "      <td>9</td>\n",
       "      <td>67.3</td>\n",
       "      <td>33.42</td>\n",
       "    </tr>\n",
       "    <tr>\n",
       "      <td>10</td>\n",
       "      <td>69.5</td>\n",
       "      <td>37.69</td>\n",
       "    </tr>\n",
       "    <tr>\n",
       "      <td>11</td>\n",
       "      <td>73.0</td>\n",
       "      <td>34.88</td>\n",
       "    </tr>\n",
       "    <tr>\n",
       "      <td>12</td>\n",
       "      <td>55.7</td>\n",
       "      <td>24.66</td>\n",
       "    </tr>\n",
       "    <tr>\n",
       "      <td>13</td>\n",
       "      <td>85.8</td>\n",
       "      <td>34.76</td>\n",
       "    </tr>\n",
       "    <tr>\n",
       "      <td>14</td>\n",
       "      <td>95.4</td>\n",
       "      <td>38.02</td>\n",
       "    </tr>\n",
       "    <tr>\n",
       "      <td>15</td>\n",
       "      <td>51.1</td>\n",
       "      <td>25.68</td>\n",
       "    </tr>\n",
       "    <tr>\n",
       "      <td>16</td>\n",
       "      <td>74.4</td>\n",
       "      <td>25.81</td>\n",
       "    </tr>\n",
       "    <tr>\n",
       "      <td>17</td>\n",
       "      <td>54.1</td>\n",
       "      <td>26.46</td>\n",
       "    </tr>\n",
       "    <tr>\n",
       "      <td>18</td>\n",
       "      <td>77.8</td>\n",
       "      <td>28.67</td>\n",
       "    </tr>\n",
       "    <tr>\n",
       "      <td>19</td>\n",
       "      <td>52.4</td>\n",
       "      <td>24.64</td>\n",
       "    </tr>\n",
       "    <tr>\n",
       "      <td>20</td>\n",
       "      <td>69.1</td>\n",
       "      <td>25.77</td>\n",
       "    </tr>\n",
       "    <tr>\n",
       "      <td>21</td>\n",
       "      <td>53.5</td>\n",
       "      <td>23.69</td>\n",
       "    </tr>\n",
       "    <tr>\n",
       "      <td>22</td>\n",
       "      <td>64.3</td>\n",
       "      <td>28.65</td>\n",
       "    </tr>\n",
       "    <tr>\n",
       "      <td>23</td>\n",
       "      <td>82.7</td>\n",
       "      <td>32.38</td>\n",
       "    </tr>\n",
       "    <tr>\n",
       "      <td>24</td>\n",
       "      <td>55.7</td>\n",
       "      <td>23.21</td>\n",
       "    </tr>\n",
       "    <tr>\n",
       "      <td>25</td>\n",
       "      <td>70.5</td>\n",
       "      <td>34.00</td>\n",
       "    </tr>\n",
       "    <tr>\n",
       "      <td>26</td>\n",
       "      <td>87.5</td>\n",
       "      <td>34.47</td>\n",
       "    </tr>\n",
       "    <tr>\n",
       "      <td>27</td>\n",
       "      <td>50.7</td>\n",
       "      <td>29.25</td>\n",
       "    </tr>\n",
       "    <tr>\n",
       "      <td>28</td>\n",
       "      <td>72.3</td>\n",
       "      <td>28.71</td>\n",
       "    </tr>\n",
       "    <tr>\n",
       "      <td>29</td>\n",
       "      <td>59.5</td>\n",
       "      <td>29.83</td>\n",
       "    </tr>\n",
       "    <tr>\n",
       "      <td>30</td>\n",
       "      <td>71.3</td>\n",
       "      <td>29.25</td>\n",
       "    </tr>\n",
       "    <tr>\n",
       "      <td>31</td>\n",
       "      <td>52.7</td>\n",
       "      <td>27.99</td>\n",
       "    </tr>\n",
       "    <tr>\n",
       "      <td>32</td>\n",
       "      <td>76.5</td>\n",
       "      <td>31.85</td>\n",
       "    </tr>\n",
       "    <tr>\n",
       "      <td>33</td>\n",
       "      <td>63.7</td>\n",
       "      <td>27.65</td>\n",
       "    </tr>\n",
       "    <tr>\n",
       "      <td>34</td>\n",
       "      <td>69.2</td>\n",
       "      <td>31.70</td>\n",
       "    </tr>\n",
       "  </tbody>\n",
       "</table>\n",
       "</div>"
      ],
      "text/plain": [
       "    Tensile strength  Hardness\n",
       "0               53.0     29.31\n",
       "1               70.2     34.86\n",
       "2               84.3     36.82\n",
       "3               55.3     30.12\n",
       "4               78.5     34.02\n",
       "5               63.5     30.82\n",
       "6               71.4     35.40\n",
       "7               53.4     31.26\n",
       "8               82.5     32.18\n",
       "9               67.3     33.42\n",
       "10              69.5     37.69\n",
       "11              73.0     34.88\n",
       "12              55.7     24.66\n",
       "13              85.8     34.76\n",
       "14              95.4     38.02\n",
       "15              51.1     25.68\n",
       "16              74.4     25.81\n",
       "17              54.1     26.46\n",
       "18              77.8     28.67\n",
       "19              52.4     24.64\n",
       "20              69.1     25.77\n",
       "21              53.5     23.69\n",
       "22              64.3     28.65\n",
       "23              82.7     32.38\n",
       "24              55.7     23.21\n",
       "25              70.5     34.00\n",
       "26              87.5     34.47\n",
       "27              50.7     29.25\n",
       "28              72.3     28.71\n",
       "29              59.5     29.83\n",
       "30              71.3     29.25\n",
       "31              52.7     27.99\n",
       "32              76.5     31.85\n",
       "33              63.7     27.65\n",
       "34              69.2     31.70"
      ]
     },
     "execution_count": 40,
     "metadata": {},
     "output_type": "execute_result"
    }
   ],
   "source": [
    "#training and testing model\n",
    "data=pd.read_excel('C:/Users/Garima Singh/Desktop/mooc data analysis/HARDNESS.xls')\n",
    "data"
   ]
  },
  {
   "cell_type": "code",
   "execution_count": 47,
   "metadata": {},
   "outputs": [],
   "source": [
    "import statsmodels.api as sm\n",
    "from sklearn import linear_model\n",
    "from sklearn.linear_model import LinearRegression\n",
    "from sklearn.metrics import mean_squared_error\n",
    "from sklearn.model_selection import train_test_split"
   ]
  },
  {
   "cell_type": "code",
   "execution_count": 54,
   "metadata": {},
   "outputs": [
    {
     "data": {
      "text/plain": [
       "array([[38.02],\n",
       "       [34.76],\n",
       "       [32.18],\n",
       "       [29.31],\n",
       "       [23.69],\n",
       "       [30.12],\n",
       "       [27.65],\n",
       "       [29.25],\n",
       "       [35.4 ],\n",
       "       [27.99],\n",
       "       [28.67],\n",
       "       [31.26],\n",
       "       [34.02],\n",
       "       [34.88],\n",
       "       [29.25],\n",
       "       [36.82],\n",
       "       [34.47],\n",
       "       [24.66],\n",
       "       [28.71],\n",
       "       [25.81],\n",
       "       [34.86],\n",
       "       [30.82],\n",
       "       [25.77],\n",
       "       [37.69],\n",
       "       [26.46],\n",
       "       [25.68],\n",
       "       [31.85],\n",
       "       [23.21]])"
      ]
     },
     "execution_count": 54,
     "metadata": {},
     "output_type": "execute_result"
    }
   ],
   "source": [
    "x=data['Hardness'].values.reshape(-1,1)\n",
    "y=data['Tensile strength'].values.reshape(-1,1)\n",
    "x_train,x_test,y_train,y_test=train_test_split(x,y,test_size=0.2,random_state=88)\n",
    "x_train"
   ]
  },
  {
   "cell_type": "code",
   "execution_count": 55,
   "metadata": {},
   "outputs": [
    {
     "data": {
      "text/plain": [
       "((28, 1), (7, 1), (28, 1), (7, 1))"
      ]
     },
     "execution_count": 55,
     "metadata": {},
     "output_type": "execute_result"
    }
   ],
   "source": [
    "x_train.shape,x_test.shape,y_train.shape,y_test.shape"
   ]
  },
  {
   "cell_type": "code",
   "execution_count": 57,
   "metadata": {},
   "outputs": [
    {
     "data": {
      "text/plain": [
       "28"
      ]
     },
     "execution_count": 57,
     "metadata": {},
     "output_type": "execute_result"
    }
   ],
   "source": [
    "len(x_train)"
   ]
  },
  {
   "cell_type": "code",
   "execution_count": 58,
   "metadata": {},
   "outputs": [
    {
     "data": {
      "text/plain": [
       "7"
      ]
     },
     "execution_count": 58,
     "metadata": {},
     "output_type": "execute_result"
    }
   ],
   "source": [
    "len(x_test)"
   ]
  },
  {
   "cell_type": "code",
   "execution_count": 59,
   "metadata": {},
   "outputs": [
    {
     "data": {
      "text/plain": [
       "array([[38.02],\n",
       "       [34.76],\n",
       "       [32.18],\n",
       "       [29.31],\n",
       "       [23.69],\n",
       "       [30.12],\n",
       "       [27.65],\n",
       "       [29.25],\n",
       "       [35.4 ],\n",
       "       [27.99],\n",
       "       [28.67],\n",
       "       [31.26],\n",
       "       [34.02],\n",
       "       [34.88],\n",
       "       [29.25],\n",
       "       [36.82],\n",
       "       [34.47],\n",
       "       [24.66],\n",
       "       [28.71],\n",
       "       [25.81],\n",
       "       [34.86],\n",
       "       [30.82],\n",
       "       [25.77],\n",
       "       [37.69],\n",
       "       [26.46],\n",
       "       [25.68],\n",
       "       [31.85],\n",
       "       [23.21]])"
      ]
     },
     "execution_count": 59,
     "metadata": {},
     "output_type": "execute_result"
    }
   ],
   "source": [
    "x_train"
   ]
  },
  {
   "cell_type": "code",
   "execution_count": 60,
   "metadata": {},
   "outputs": [],
   "source": [
    "\n",
    "#constructing reg model\n",
    "from sklearn.linear_model import LinearRegression\n",
    "reg=LinearRegression()"
   ]
  },
  {
   "cell_type": "code",
   "execution_count": 61,
   "metadata": {},
   "outputs": [
    {
     "data": {
      "text/plain": [
       "LinearRegression(copy_X=True, fit_intercept=True, n_jobs=None, normalize=False)"
      ]
     },
     "execution_count": 61,
     "metadata": {},
     "output_type": "execute_result"
    }
   ],
   "source": [
    "reg.fit(x_train,y_train)"
   ]
  },
  {
   "cell_type": "code",
   "execution_count": 76,
   "metadata": {},
   "outputs": [
    {
     "data": {
      "text/plain": [
       "7.045691001423386"
      ]
     },
     "execution_count": 76,
     "metadata": {},
     "output_type": "execute_result"
    }
   ],
   "source": [
    "reg.intercept_[0]"
   ]
  },
  {
   "cell_type": "code",
   "execution_count": 78,
   "metadata": {},
   "outputs": [
    {
     "data": {
      "text/plain": [
       "1.9977740102197983"
      ]
     },
     "execution_count": 78,
     "metadata": {},
     "output_type": "execute_result"
    }
   ],
   "source": [
    "reg.coef_[0][0]"
   ]
  },
  {
   "cell_type": "code",
   "execution_count": 72,
   "metadata": {},
   "outputs": [
    {
     "data": {
      "text/plain": [
       "array([[73.81129842],\n",
       "       [56.27084261],\n",
       "       [64.28191639],\n",
       "       [66.63928973],\n",
       "       [70.37512713],\n",
       "       [74.97000735],\n",
       "       [71.73361345]])"
      ]
     },
     "execution_count": 72,
     "metadata": {},
     "output_type": "execute_result"
    }
   ],
   "source": [
    "y_predict=reg.predict(x_test)\n",
    "y_predict"
   ]
  },
  {
   "cell_type": "code",
   "execution_count": 73,
   "metadata": {},
   "outputs": [
    {
     "data": {
      "text/plain": [
       "35.71053398209997"
      ]
     },
     "execution_count": 73,
     "metadata": {},
     "output_type": "execute_result"
    }
   ],
   "source": [
    "mean_squared_error(y_test,y_predict)"
   ]
  },
  {
   "cell_type": "code",
   "execution_count": 74,
   "metadata": {},
   "outputs": [
    {
     "data": {
      "text/plain": [
       "0.5362243730094254"
      ]
     },
     "execution_count": 74,
     "metadata": {},
     "output_type": "execute_result"
    }
   ],
   "source": [
    "reg.score(x_test,y_test)"
   ]
  },
  {
   "cell_type": "code",
   "execution_count": 75,
   "metadata": {},
   "outputs": [
    {
     "data": {
      "text/plain": [
       "0.4500146647765303"
      ]
     },
     "execution_count": 75,
     "metadata": {},
     "output_type": "execute_result"
    }
   ],
   "source": [
    "reg.score(x_train,y_train)"
   ]
  },
  {
   "cell_type": "code",
   "execution_count": null,
   "metadata": {},
   "outputs": [],
   "source": []
  }
 ],
 "metadata": {
  "kernelspec": {
   "display_name": "Python 3",
   "language": "python",
   "name": "python3"
  },
  "language_info": {
   "codemirror_mode": {
    "name": "ipython",
    "version": 3
   },
   "file_extension": ".py",
   "mimetype": "text/x-python",
   "name": "python",
   "nbconvert_exporter": "python",
   "pygments_lexer": "ipython3",
   "version": "3.7.4"
  }
 },
 "nbformat": 4,
 "nbformat_minor": 2
}
