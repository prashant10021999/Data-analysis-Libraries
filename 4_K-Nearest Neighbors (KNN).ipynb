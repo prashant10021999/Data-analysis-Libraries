{
 "cells": [
  {
   "cell_type": "code",
   "execution_count": null,
   "id": "776d2a0d",
   "metadata": {},
   "outputs": [],
   "source": [
    "# Problem Statement\n",
    "'''A retail company wants to predict customer purchasing behavior \n",
    "based on their age, salary and past purchase history. \n",
    "The company aims to use K-Nearest Neighbors (KNN) algorithm to classify \n",
    "customers into potential buying groups to personalize marketing strategies.\n",
    "This predictive model will help the company understand and target \n",
    "specific customer segments more effectively, thereby increasing sales \n",
    "and customer satisfaction.'''"
   ]
  },
  {
   "cell_type": "code",
   "execution_count": null,
   "id": "b896901d",
   "metadata": {},
   "outputs": [],
   "source": [
    "# step no1\n",
    "import numpy as np\n",
    "from sklearn.model_selection import train_test_split\n",
    "from sklearn.preprocessing import StandardScaler\n",
    "from sklearn.neighbors import KNeighborsClassifier"
   ]
  },
  {
   "cell_type": "code",
   "execution_count": null,
   "id": "f0304c25",
   "metadata": {},
   "outputs": [],
   "source": [
    "# step no 2\n",
    "data = np.array([[25,50000,2], [30,80000,1], [35,60000,3], [20, 30000,2], [40, 90000,1],[45,75000,2]])\n",
    "labels = np.array([1,2,1,0,2,1]) # 0:low, 1:medium, 2:high"
   ]
  },
  {
   "cell_type": "code",
   "execution_count": null,
   "id": "6c19879e",
   "metadata": {},
   "outputs": [],
   "source": [
    "# step no 3\n",
    "X_train, X_test,y_train,y_test = train_test_split(data, labels, test_size=0.2, random_state=42)"
   ]
  },
  {
   "cell_type": "code",
   "execution_count": null,
   "id": "de61f445",
   "metadata": {},
   "outputs": [],
   "source": [
    "# step no 4\n",
    "scaler = StandardScaler()\n",
    "X_train = scaler.fit_transform(X_train)\n",
    "X_test = scaler.fit_transform(X_test)"
   ]
  },
  {
   "cell_type": "code",
   "execution_count": null,
   "id": "93604563",
   "metadata": {},
   "outputs": [],
   "source": [
    "# step no 5\n",
    "knn = KNeighborsClassifier(n_neighbors=3)\n",
    "knn.fit(X_train,y_train)"
   ]
  },
  {
   "cell_type": "code",
   "execution_count": null,
   "id": "94ba8353",
   "metadata": {},
   "outputs": [],
   "source": [
    "accuarcy = knn.score(X_test, y_test)\n",
    "print(f\"Model accuracy: {accuarcy}\")"
   ]
  },
  {
   "cell_type": "code",
   "execution_count": null,
   "id": "ac5d200f",
   "metadata": {},
   "outputs": [],
   "source": [
    "# user input\n",
    "user_input = np.array([[30, 60000, 1]])\n",
    "user_input_scaled = scaler.transform(user_input)\n",
    "knn.predict(user_input_scaled)"
   ]
  },
  {
   "cell_type": "code",
   "execution_count": null,
   "id": "683933ae",
   "metadata": {},
   "outputs": [],
   "source": []
  },
  {
   "cell_type": "code",
   "execution_count": null,
   "id": "c21a6654",
   "metadata": {},
   "outputs": [],
   "source": []
  },
  {
   "cell_type": "code",
   "execution_count": null,
   "id": "2986adb2",
   "metadata": {},
   "outputs": [],
   "source": []
  }
 ],
 "metadata": {
  "celltoolbar": "Raw Cell Format",
  "kernelspec": {
   "display_name": "Python 3 (ipykernel)",
   "language": "python",
   "name": "python3"
  },
  "language_info": {
   "codemirror_mode": {
    "name": "ipython",
    "version": 3
   },
   "file_extension": ".py",
   "mimetype": "text/x-python",
   "name": "python",
   "nbconvert_exporter": "python",
   "pygments_lexer": "ipython3",
   "version": "3.10.10"
  }
 },
 "nbformat": 4,
 "nbformat_minor": 5
}
